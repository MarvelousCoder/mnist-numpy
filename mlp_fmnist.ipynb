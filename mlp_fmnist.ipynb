{
 "cells": [
  {
   "cell_type": "markdown",
   "metadata": {},
   "source": [
    "# Exercício MLP\n",
    "\n",
    "## Raphael Soares Ramos\n",
    "### Foram realizados testes com a implementação em Numpy e no framework PyTorch no dataset  MNIST e FMNIST. Primeiro, são realizados testes no dataset FMNIST com a MLP implementada em PyTorch. Posteriormente são realizados testes no dataset MNIST com o modelo implementado em Numpy e um teste com a mesma arquitetura avaliada no FMNIST.\n",
    "\n",
    "#### O modelo avaliado no FMNIST obteve uma acurácia de 87.83%. O melhor modelo em Numpy avaliado no MNIST obteve uma acurácia de 95.04% e o melhor modelo (avaliado neste mesmo conjunto de dados) em PyTorch, 95.73%."
   ]
  },
  {
   "cell_type": "code",
   "execution_count": 9,
   "metadata": {},
   "outputs": [],
   "source": [
    "import torch\n",
    "import torch.nn as nn\n",
    "import torch.optim as optim\n",
    "from torch.optim import lr_scheduler\n",
    "import torch.utils.data\n",
    "import numpy as np\n",
    "from torchvision import datasets, models, transforms\n",
    "import matplotlib.pyplot as plt\n",
    "import sys"
   ]
  },
  {
   "cell_type": "markdown",
   "metadata": {},
   "source": [
    "Usamos transform para gerar novos dados com HorizontalFlip, normalizá-los com média 0.485 e desvio padrão 0.229 e transformar as imagens em tensores. BS é o tamanho do batch!"
   ]
  },
  {
   "cell_type": "code",
   "execution_count": 10,
   "metadata": {},
   "outputs": [],
   "source": [
    "transform = transforms.Compose([transforms.RandomHorizontalFlip(),\n",
    "                                transforms.ToTensor(), \n",
    "                                transforms.Normalize((0.485,), (0.229,))])\n",
    "device = torch.device(\"cuda:0\" if torch.cuda.is_available() else \"cpu\")"
   ]
  },
  {
   "cell_type": "code",
   "execution_count": 11,
   "metadata": {},
   "outputs": [],
   "source": [
    "train_set = datasets.FMNIST('../datasets', download=True, train=True, transform=transform)\n",
    "test_set = datasets.FMNIST('../datasets', download=True, train=False, transform=transform)\n",
    "\n",
    "\n",
    "BS = 64\n",
    "validation_split = 0.2\n",
    "split = int(np.floor(validation_split * len(train_set)))\n",
    "\n",
    "train_set, val_set = torch.utils.data.random_split(train_set, [len(train_set)-split, split])"
   ]
  },
  {
   "cell_type": "code",
   "execution_count": 12,
   "metadata": {},
   "outputs": [],
   "source": [
    "train_loader = torch.utils.data.DataLoader(train_set, batch_size=BS, shuffle=True)\n",
    "val_loader = torch.utils.data.DataLoader(val_set, batch_size=BS)\n",
    "test_loader = torch.utils.data.DataLoader(test_set, batch_size=BS)"
   ]
  },
  {
   "cell_type": "markdown",
   "metadata": {},
   "source": [
    "A seguinte célula pegará o próximo elemento do iterator."
   ]
  },
  {
   "cell_type": "code",
   "execution_count": 13,
   "metadata": {},
   "outputs": [],
   "source": [
    "inputs, classes = next(iter(train_loader))"
   ]
  },
  {
   "cell_type": "code",
   "execution_count": 14,
   "metadata": {},
   "outputs": [
    {
     "name": "stdout",
     "output_type": "stream",
     "text": [
      "48000\n"
     ]
    }
   ],
   "source": [
    "print(len(train_set))"
   ]
  },
  {
   "cell_type": "markdown",
   "metadata": {},
   "source": [
    "No PyTorch, os tensores são da forma (N, C, H, W), onde N é o tamanho do batch, C é a dimensão do tensor, H é a altura e W é a largura.\n",
    "\n",
    "Pode-se ver que temos imagens monocromáticas com 28 pixels de largura e 28 de altura no dataset. O tamanho do conjunto de treino é 48000, o conjunto de validação terá 12000 imagens e o de teste 10000."
   ]
  },
  {
   "cell_type": "code",
   "execution_count": 15,
   "metadata": {},
   "outputs": [
    {
     "name": "stdout",
     "output_type": "stream",
     "text": [
      "torch.Size([64, 1, 28, 28]) torch.Size([64])\n"
     ]
    }
   ],
   "source": [
    "print(inputs.shape, classes.shape)"
   ]
  },
  {
   "cell_type": "markdown",
   "metadata": {},
   "source": [
    "Na próxima célula são definidas as redes MLP.\n",
    "\n",
    "#### MLP\n",
    "Para a rede MLP, primeiro é feito um \"flatten\" com o método view no tensor de entrada 28x28, que passará a ter tamanho 784. Este novo tensor passará pela então pelas camadas definidas em features. Linear aplica uma transformação Linear (y = xW^T + b). O bias e os pesos serão aprendidos (é possível setar bias para falso). A ReLU, definida por f(x) = max(0,x), é a função de ativação não-linear utilizada para que o modelo seja capaz de aprender transformações não-lineares. Ela é uma das mais utilizadas poe ser quase linear e preservar propriedades interessantes para métodos de descida de gradiente. \n",
    "\n",
    "É utilizada um dropout de 30% para evitar overfitting e então, após a última camada Linear, é gerada as probabilidades de cada classe usando LogSoftmax na última camada para calcular o log das probabilidades. "
   ]
  },
  {
   "cell_type": "code",
   "execution_count": 16,
   "metadata": {},
   "outputs": [],
   "source": [
    "class MLP(nn.Module):\n",
    "    def __init__(self):\n",
    "        super(MLP, self).__init__()\n",
    "        self.features = nn.Sequential(\n",
    "            nn.Linear(784, 156), \n",
    "            nn.ReLU(), \n",
    "            nn.Linear(156, 78),\n",
    "            nn.ReLU(),\n",
    "            nn.Linear(78, 39),\n",
    "            nn.ReLU(),\n",
    "            nn.Dropout(0.3),\n",
    "            nn.Linear(39, 10)\n",
    "        )\n",
    "        self.out = nn.LogSoftmax(dim=1)\n",
    "\n",
    "    def forward(self, x):\n",
    "        x = x.view(x.shape[0], -1)\n",
    "        x = self.features(x)\n",
    "        return self.out(x)"
   ]
  },
  {
   "cell_type": "code",
   "execution_count": 17,
   "metadata": {},
   "outputs": [],
   "source": [
    "import copy \n",
    "\n",
    "\n",
    "def train_loop(model, cost, data, label, optimizer, phase):    \n",
    "    # zerar os gradientes\n",
    "    optimizer.zero_grad()\n",
    "    \n",
    "    output = model(data)\n",
    "    # calcular a loss\n",
    "    loss = cost(output, label) \n",
    "    \n",
    "    # backward pass: computa o gradiente da perda com respeito aos learnable\n",
    "    # parameters do modelo\n",
    "    # atualiza parâmetros do otimizador\n",
    "    if phase == 'train':\n",
    "        loss.backward()\n",
    "        optimizer.step()\n",
    "    return loss, output\n",
    "\n",
    "\n",
    "def train(model, dataset, optimizer, cost, scheduler, epochs=20):\n",
    "    best_acc = 0.\n",
    "    losses, acc = [], []\n",
    "    best_model_wts = copy.deepcopy(model.state_dict())\n",
    "    for x in range(epochs):\n",
    "        print('Epoch {}/{}'.format(x + 1, epochs))\n",
    "        scheduler.step()\n",
    "        for phase in ['train', 'val']:\n",
    "            if phase == 'train':\n",
    "                model.train()\n",
    "            else:\n",
    "                model.eval()\n",
    "            running_loss, running_corrects = 0., 0.\n",
    "            for batch_idx, (data, labels) in enumerate(dataset[phase]):\n",
    "                data = data.to(device)\n",
    "                labels = labels.to(device)\n",
    "                loss, output = train_loop(model, cost, data, labels, optimizer, phase)\n",
    "                _, preds = torch.max(output, 1)\n",
    "                running_loss += loss.item() * data.size(0)\n",
    "                running_corrects += torch.sum(preds == labels.data)\n",
    "            epoch_loss = running_loss / (BS*len(dataset[phase]))\n",
    "            epoch_acc = running_corrects.double() / (BS*len(dataset[phase]))\n",
    "            losses.append(epoch_loss)\n",
    "            acc.append(epoch_acc)\n",
    "            print('{} Loss: {:.4f} Acc: {:.4f}'.format(phase.upper(), epoch_loss, epoch_acc))\n",
    "            if epoch_acc > best_acc and phase == 'val':\n",
    "                best_acc = copy.deepcopy(epoch_acc)\n",
    "                best_model_wts = copy.deepcopy(model.state_dict())\n",
    "        print('-' * 50)\n",
    "    model.load_state_dict(best_model_wts)\n",
    "    return model, losses, acc\n"
   ]
  },
  {
   "cell_type": "code",
   "execution_count": 18,
   "metadata": {},
   "outputs": [],
   "source": [
    "def test(model, loader, cost):\n",
    "    model.eval()\n",
    "    avg_loss, avg_acc, running_corrects = 0., 0., 0.\n",
    "    y_test, y_pred = [], []\n",
    "    for batch_idx, (data, labels) in enumerate(loader):\n",
    "        data = data.to(device)\n",
    "        labels = labels.to(device)\n",
    "        output = model(data)\n",
    "        _, preds = torch.max(output, 1)\n",
    "        for j in range(output.size()[0]):\n",
    "            y_test.append(labels.cpu().data[j])\n",
    "            y_pred.append(preds.cpu().data[j])\n",
    "        loss = cost(output, labels) \n",
    "        running_corrects += torch.sum(preds == labels.data)\n",
    "        avg_loss += loss.item() * data.size(0)\n",
    "        avg_acc += running_corrects.double()\n",
    "    print('Test Loss: {}\\nTest Accuracy: {}'.format(avg_loss/(BS*len(loader)), \n",
    "                                                    running_corrects.double() / (BS*len(loader))))\n",
    "    return np.array(y_test), np.array(y_pred)\n"
   ]
  },
  {
   "cell_type": "code",
   "execution_count": 19,
   "metadata": {},
   "outputs": [],
   "source": [
    "dataset = {'train': train_loader, 'val': val_loader, 'test': test_loader}"
   ]
  },
  {
   "cell_type": "markdown",
   "metadata": {},
   "source": [
    "A função de Loss escolhida para treino dos modelos é a NLLLoss devido ao uso do LogSoftmax nos modelos. O otimizador escolhido é o Adam, por ser um método de Learning Rate adaptativa. É utilizado um decaímento exponencial para atualização da learning rate.\n",
    "\n",
    "Há uma época de treino e uma de validação intercalada para treino de ambos os modelos. A loss na validação ficou um pouco maior do que a loss no treino, o que indica um bom aprendizado do modelo. \n",
    "\n",
    "O conjunto de validação é utilizado de forma que os pesos que obterem melhor acurácia no conjunto de validação (também pode-se utilizar os pesos que obterem menor loss no conjunto de validação) serão aqueles utilizados no modelo para o conjunto de teste. "
   ]
  },
  {
   "cell_type": "code",
   "execution_count": 25,
   "metadata": {},
   "outputs": [
    {
     "name": "stdout",
     "output_type": "stream",
     "text": [
      "Epoch 1/20\n",
      "TRAIN Loss: 0.6744 Acc: 0.7622\n",
      "VAL Loss: 0.4733 Acc: 0.8202\n",
      "--------------------------------------------------\n",
      "Epoch 2/20\n",
      "TRAIN Loss: 0.4707 Acc: 0.8353\n",
      "VAL Loss: 0.4064 Acc: 0.8487\n",
      "--------------------------------------------------\n",
      "Epoch 3/20\n",
      "TRAIN Loss: 0.4216 Acc: 0.8524\n",
      "VAL Loss: 0.3633 Acc: 0.8620\n",
      "--------------------------------------------------\n",
      "Epoch 4/20\n",
      "TRAIN Loss: 0.3912 Acc: 0.8625\n",
      "VAL Loss: 0.3579 Acc: 0.8640\n",
      "--------------------------------------------------\n",
      "Epoch 5/20\n",
      "TRAIN Loss: 0.3667 Acc: 0.8706\n",
      "VAL Loss: 0.3402 Acc: 0.8723\n",
      "--------------------------------------------------\n",
      "Epoch 6/20\n",
      "TRAIN Loss: 0.3523 Acc: 0.8755\n",
      "VAL Loss: 0.3476 Acc: 0.8701\n",
      "--------------------------------------------------\n",
      "Epoch 7/20\n",
      "TRAIN Loss: 0.3352 Acc: 0.8821\n",
      "VAL Loss: 0.3216 Acc: 0.8826\n",
      "--------------------------------------------------\n",
      "Epoch 8/20\n",
      "TRAIN Loss: 0.3180 Acc: 0.8866\n",
      "VAL Loss: 0.3131 Acc: 0.8820\n",
      "--------------------------------------------------\n",
      "Epoch 9/20\n",
      "TRAIN Loss: 0.3067 Acc: 0.8898\n",
      "VAL Loss: 0.3056 Acc: 0.8884\n",
      "--------------------------------------------------\n",
      "Epoch 10/20\n",
      "TRAIN Loss: 0.2953 Acc: 0.8937\n",
      "VAL Loss: 0.2983 Acc: 0.8871\n",
      "--------------------------------------------------\n",
      "Epoch 11/20\n",
      "TRAIN Loss: 0.2869 Acc: 0.8978\n",
      "VAL Loss: 0.3092 Acc: 0.8830\n",
      "--------------------------------------------------\n",
      "Epoch 12/20\n",
      "TRAIN Loss: 0.2773 Acc: 0.9015\n",
      "VAL Loss: 0.2992 Acc: 0.8888\n",
      "--------------------------------------------------\n",
      "Epoch 13/20\n",
      "TRAIN Loss: 0.2702 Acc: 0.9032\n",
      "VAL Loss: 0.2969 Acc: 0.8901\n",
      "--------------------------------------------------\n",
      "Epoch 14/20\n",
      "TRAIN Loss: 0.2618 Acc: 0.9063\n",
      "VAL Loss: 0.2977 Acc: 0.8938\n",
      "--------------------------------------------------\n",
      "Epoch 15/20\n",
      "TRAIN Loss: 0.2577 Acc: 0.9065\n",
      "VAL Loss: 0.2972 Acc: 0.8911\n",
      "--------------------------------------------------\n",
      "Epoch 16/20\n",
      "TRAIN Loss: 0.2512 Acc: 0.9093\n",
      "VAL Loss: 0.2879 Acc: 0.8929\n",
      "--------------------------------------------------\n",
      "Epoch 17/20\n",
      "TRAIN Loss: 0.2451 Acc: 0.9105\n",
      "VAL Loss: 0.2880 Acc: 0.8934\n",
      "--------------------------------------------------\n",
      "Epoch 18/20\n",
      "TRAIN Loss: 0.2388 Acc: 0.9151\n",
      "VAL Loss: 0.2899 Acc: 0.8949\n",
      "--------------------------------------------------\n",
      "Epoch 19/20\n",
      "TRAIN Loss: 0.2338 Acc: 0.9156\n",
      "VAL Loss: 0.2865 Acc: 0.8959\n",
      "--------------------------------------------------\n",
      "Epoch 20/20\n",
      "TRAIN Loss: 0.2309 Acc: 0.9172\n",
      "VAL Loss: 0.2854 Acc: 0.8954\n",
      "--------------------------------------------------\n",
      "Test Loss: 0.3349014265569532\n",
      "Test Accuracy: 0.8782842356687899\n"
     ]
    }
   ],
   "source": [
    "model = MLP()\n",
    "model = model.to(device)\n",
    "cost = nn.NLLLoss()\n",
    "optimizer = optim.Adam(model.parameters(), lr=0.001)\n",
    "scheduler =  optim.lr_scheduler.ExponentialLR(optimizer, 0.9, last_epoch=-1)\n",
    "model, loss_mlp, acc_mlp = train(model, dataset, optimizer, cost, scheduler)\n",
    "y_test_mlp, y_pred_mlp = test(model, dataset['test'], cost)"
   ]
  },
  {
   "cell_type": "code",
   "execution_count": 26,
   "metadata": {},
   "outputs": [],
   "source": [
    "import matplotlib.pyplot as plt\n",
    "import itertools\n",
    "import sklearn\n",
    "from sklearn.metrics import classification_report, confusion_matrix\n",
    "\n",
    "\n",
    "def plot_confusion_matrix(classes, y_test, y_pred):\n",
    "    cnf_matrix = confusion_matrix(y_test, y_pred)\n",
    "    np.set_printoptions(precision=2)\n",
    "\n",
    "    cnf_matrix = cnf_matrix.astype('float') / cnf_matrix.sum(axis=1)[:, np.newaxis]\n",
    "    # Plot normalized confusion matrix\n",
    "    plt.figure(figsize=(10, 10))\n",
    "    plt.imshow(cnf_matrix, interpolation='nearest', cmap=plt.cm.Blues)\n",
    "    plt.title('Confusion matrix')\n",
    "    plt.colorbar()\n",
    "    tick_marks = np.arange(len(classes))\n",
    "    plt.xticks(tick_marks, classes, rotation=90)\n",
    "    plt.yticks(tick_marks, classes)\n",
    "\n",
    "    fmt = '.2f'\n",
    "    thresh = cnf_matrix.max() / 2.\n",
    "    for i, j in itertools.product(range(cnf_matrix.shape[0]), range(cnf_matrix.shape[1])):\n",
    "            plt.text(j, i, format(cnf_matrix[i, j], fmt), horizontalalignment=\"center\",\n",
    "                                    color=\"white\" if cnf_matrix[i, j] > thresh else \"black\")\n",
    "    plt.ylabel('True label')\n",
    "    plt.xlabel('Predicted label')\n",
    "    plt.tight_layout()\n",
    "    plt.show()\n",
    "    \n",
    "def plot_loss(loss_mlp):\n",
    "    epochs = np.arange(1, len(loss_mlp)/2 + 1).astype(np.int)\n",
    "    loss_train_mlp = np.array([x[1] for x in enumerate(loss_mlp) if x[0]%2==0])\n",
    "    loss_val_mlp = np.array([x[1] for x in enumerate(loss_mlp) if x[0]%2])\n",
    "    plt.plot(epochs, loss_train_mlp, label='Train MLP')\n",
    "    plt.plot(epochs, loss_val_mlp, label='Val MLP')\n",
    "    plt.xlabel('Epochs')\n",
    "    plt.ylabel('Loss')\n",
    "    plt.legend()\n",
    "    plt.show()\n",
    "    \n",
    "\n",
    "def plot_acc(acc_mlp):\n",
    "    epochs = np.arange(1, len(acc_mlp)/2 + 1).astype(np.int)\n",
    "    acc_train = np.array([x[1] for x in enumerate(acc_mlp) if x[0]%2==0])\n",
    "    acc_val = np.array([x[1] for x in enumerate(acc_mlp) if x[0]%2])\n",
    "    plt.plot(epochs, acc_train, label='Train MLP')\n",
    "    plt.plot(epochs, acc_val, label='Val MLP')    \n",
    "    plt.xlabel('Epochs')\n",
    "    plt.ylabel('Accuracy')\n",
    "    plt.legend()\n",
    "    plt.show()\n",
    "    "
   ]
  },
  {
   "cell_type": "markdown",
   "metadata": {},
   "source": [
    "Abaixo estão os gráficos e matrizes de confusão para cada um dos modelos. Pelas matrizes de confusão é possível notar que as maior confusão se dá com as classes 6 e 0, o que é esperado visto que são as classes 'camisa' e 'camiseta'."
   ]
  },
  {
   "cell_type": "code",
   "execution_count": 27,
   "metadata": {},
   "outputs": [
    {
     "data": {
      "image/png": "[encoded data removed]",
      "text/plain": [
       "<Figure size 720x720 with 2 Axes>"
      ]
     },
     "metadata": {
      "needs_background": "light"
     },
     "output_type": "display_data"
    }
   ],
   "source": [
    "plot_confusion_matrix(np.arange(10), y_test_mlp, y_pred_mlp)"
   ]
  },
  {
   "cell_type": "markdown",
   "metadata": {},
   "source": [
    "Vamos olhar para uma imagem pertencente a classe 0 e 6."
   ]
  },
  {
   "cell_type": "code",
   "execution_count": 28,
   "metadata": {},
   "outputs": [
    {
     "name": "stdout",
     "output_type": "stream",
     "text": [
      "              precision    recall  f1-score   support\n",
      "\n",
      "           0       0.81      0.86      0.83      1000\n",
      "           1       0.99      0.97      0.98      1000\n",
      "           2       0.81      0.80      0.80      1000\n",
      "           3       0.88      0.90      0.89      1000\n",
      "           4       0.78      0.84      0.81      1000\n",
      "           5       0.97      0.94      0.95      1000\n",
      "           6       0.74      0.65      0.69      1000\n",
      "           7       0.90      0.97      0.93      1000\n",
      "           8       0.97      0.97      0.97      1000\n",
      "           9       0.96      0.93      0.95      1000\n",
      "\n",
      "    accuracy                           0.88     10000\n",
      "   macro avg       0.88      0.88      0.88     10000\n",
      "weighted avg       0.88      0.88      0.88     10000\n",
      "\n"
     ]
    }
   ],
   "source": [
    "target_names = list(map(lambda x: str(x), np.arange(10)))\n",
    "print(classification_report(y_test_mlp, y_pred_mlp, target_names=target_names))"
   ]
  },
  {
   "cell_type": "markdown",
   "metadata": {},
   "source": [
    "Os gráficos de desempenho dos modelos nos conjuntos treino e validação são apresentados abaixo."
   ]
  },
  {
   "cell_type": "code",
   "execution_count": 29,
   "metadata": {},
   "outputs": [
    {
     "data": {
      "image/png": "[encoded data removed]",
      "text/plain": [
       "<Figure size 432x288 with 1 Axes>"
      ]
     },
     "metadata": {
      "needs_background": "light"
     },
     "output_type": "display_data"
    }
   ],
   "source": [
    "plot_loss(loss_mlp)"
   ]
  },
  {
   "cell_type": "code",
   "execution_count": 30,
   "metadata": {},
   "outputs": [
    {
     "data": {
      "image/png": "[encoded data removed]",
      "text/plain": [
       "<Figure size 432x288 with 1 Axes>"
      ]
     },
     "metadata": {
      "needs_background": "light"
     },
     "output_type": "display_data"
    }
   ],
   "source": [
    "plot_acc(acc_mlp)"
   ]
  },
  {
   "cell_type": "markdown",
   "metadata": {},
   "source": [
    "## Implementação em Numpy - MNIST"
   ]
  },
  {
   "cell_type": "markdown",
   "metadata": {},
   "source": [
    "Foi estudada uma implementação em Numpy da MLP. Foram implementadas novas funções e incorporada a possibilidade de uso de learning rates cíclicas [Smith et al. 2017](https://arxiv.org/abs/1506.01186) e o uso da função de ativação ReLU, além de algumas outras mudanças planejadas para deixar o código suscetível a novas implementações sem necessidade de muitas edições. O código completo com referência do código base trabalhado se encontra em [mnist-numpy](https://github.com/MarvelousCoder/mnist-numpy).\n",
    "\n",
    "A learning rate é um hiperparâmetro que controla o quanto nós ajustamos os parâmetros aprendíveis da nossa rede com respeito ao gradiente. Quanto menor o valor, menor o passo dado ao longo do declive em direção ao mínimo da função de custo. A \\textit{learning rate} é um dos hiperparâmetros que devem ser escolhidos com cuidado, pois ela pode ter uma grande influência na convergência do seu modelo.\n",
    "\n",
    "Leslie propõe ciclos para variar a learning rate. Um ciclo é definido como o número de iterações necessárias para learning rate ir do valor mínimo até o máximo definido no ciclo e voltar ao mínimo. Dadas as constantes $baselr,\\, maxlr,\\, step \\text{ e } \\gamma$ que representam, respectivamente, learning rate inicial, learning rate máxima, número de iterações correspondente à metade de um ciclo e constante responsável por diminuir limite superior do ciclo; e as variáveis $itr$ que representa a iteração atual no treinamento e $cycle = \\left\\lfloor1 + \\dfrac{itr}{2 \\cdot step}\\right\\rfloor$ o ciclo atual e a learning rate $lr$ para uma $itr$ qualquer na política exp_range é calculada pela seguinte equação:\n",
    "$$lr = baselr + (maxlr-baselr)max(0,\\, 1-|itr/step - 2cycle + 1|) \\gamma^{itr}.$$\n",
    "\n",
    "Foi implementada e utilizada esta técnica para atualização de learning rate, dado os bons resultados apresentados por Smith. A curto prazo pode não ser benéfica para o aprendizado do modelo, mas a longo prazo há um ganho considerável. Smith apresenta uma maior velocidade de convergência com o uso de learning rates cíclicas (posteriormente esse fênomeno ficou conhecido como \"superconvergência\")"
   ]
  },
  {
   "cell_type": "code",
   "execution_count": 2,
   "metadata": {},
   "outputs": [],
   "source": [
    "from src.mnist import Generator as Gen\n",
    "from src.enums import *"
   ]
  },
  {
   "cell_type": "markdown",
   "metadata": {},
   "source": [
    "Inicialmente feitos alguns testes com um subconjunto menor dos dados nas seguintes células. É possível notar uma diferença ao usar a função de ativação ReLU no lugar da Sigmoid para poucos dados. Entretanto, para muitos dados "
   ]
  },
  {
   "cell_type": "code",
   "execution_count": 3,
   "metadata": {},
   "outputs": [],
   "source": [
    "path = 'data/mnist.pkl.gz'\n",
    "training_data, validation_data, test_data = Gen.load_data_wrapper(path)\n",
    "\n",
    "def exec_model(loss, activation, schedule, lr, training_data, validation_data, epochs=30, batch_size=20):\n",
    "    lr = schedule(0.03, epochs*len(training_data), epochs)\n",
    "    net = Network([784, 30, 10], lr, cost=loss, activation=activation)\n",
    "    net.sgd(training_data, epochs, batch_size, lmbda=2.0,\n",
    "        evaluation_data=validation_data,\n",
    "        monitor_evaluation_accuracy=True)"
   ]
  },
  {
   "cell_type": "code",
   "execution_count": 57,
   "metadata": {},
   "outputs": [
    {
     "name": "stdout",
     "output_type": "stream",
     "text": [
      "Epoch 1 training complete\n",
      "Accuracy on evaluation data: 62/100\n",
      "Epoch 2 training complete\n",
      "Accuracy on evaluation data: 66/100\n",
      "Epoch 3 training complete\n",
      "Accuracy on evaluation data: 78/100\n",
      "Epoch 4 training complete\n",
      "Accuracy on evaluation data: 80/100\n",
      "Epoch 5 training complete\n",
      "Accuracy on evaluation data: 81/100\n",
      "Epoch 6 training complete\n",
      "Accuracy on evaluation data: 84/100\n",
      "Epoch 7 training complete\n",
      "Accuracy on evaluation data: 80/100\n",
      "Epoch 8 training complete\n",
      "Accuracy on evaluation data: 86/100\n",
      "Epoch 9 training complete\n",
      "Accuracy on evaluation data: 86/100\n",
      "Epoch 10 training complete\n",
      "Accuracy on evaluation data: 84/100\n",
      "Epoch 11 training complete\n",
      "Accuracy on evaluation data: 85/100\n",
      "Epoch 12 training complete\n",
      "Accuracy on evaluation data: 86/100\n",
      "Epoch 13 training complete\n",
      "Accuracy on evaluation data: 85/100\n",
      "Epoch 14 training complete\n",
      "Accuracy on evaluation data: 86/100\n",
      "Epoch 15 training complete\n",
      "Accuracy on evaluation data: 86/100\n",
      "Epoch 16 training complete\n",
      "Accuracy on evaluation data: 86/100\n",
      "Epoch 17 training complete\n",
      "Accuracy on evaluation data: 86/100\n",
      "Epoch 18 training complete\n",
      "Accuracy on evaluation data: 86/100\n",
      "Epoch 19 training complete\n",
      "Accuracy on evaluation data: 88/100\n",
      "Epoch 20 training complete\n",
      "Accuracy on evaluation data: 87/100\n",
      "Epoch 21 training complete\n",
      "Accuracy on evaluation data: 87/100\n",
      "Epoch 22 training complete\n",
      "Accuracy on evaluation data: 86/100\n",
      "Epoch 23 training complete\n",
      "Accuracy on evaluation data: 87/100\n",
      "Epoch 24 training complete\n",
      "Accuracy on evaluation data: 87/100\n",
      "Epoch 25 training complete\n",
      "Accuracy on evaluation data: 87/100\n",
      "Epoch 26 training complete\n",
      "Accuracy on evaluation data: 87/100\n",
      "Epoch 27 training complete\n",
      "Accuracy on evaluation data: 88/100\n",
      "Epoch 28 training complete\n",
      "Accuracy on evaluation data: 89/100\n",
      "Epoch 29 training complete\n",
      "Accuracy on evaluation data: 88/100\n",
      "Epoch 30 training complete\n",
      "Accuracy on evaluation data: 89/100\n"
     ]
    }
   ],
   "source": [
    "loss = Losses.CROSSENTROPY\n",
    "activation = Activations.RELU\n",
    "schedule = Schedules.CONSTANT.value\n",
    "exec_model(loss, activation, schedule, 0.03, training_data[:1000], test_data[:100])"
   ]
  },
  {
   "cell_type": "code",
   "execution_count": 58,
   "metadata": {},
   "outputs": [
    {
     "name": "stdout",
     "output_type": "stream",
     "text": [
      "Epoch 1 training complete\n",
      "Accuracy on evaluation data: 25/100\n",
      "Epoch 2 training complete\n",
      "Accuracy on evaluation data: 40/100\n",
      "Epoch 3 training complete\n",
      "Accuracy on evaluation data: 48/100\n",
      "Epoch 4 training complete\n",
      "Accuracy on evaluation data: 56/100\n",
      "Epoch 5 training complete\n",
      "Accuracy on evaluation data: 65/100\n",
      "Epoch 6 training complete\n",
      "Accuracy on evaluation data: 67/100\n",
      "Epoch 7 training complete\n",
      "Accuracy on evaluation data: 66/100\n",
      "Epoch 8 training complete\n",
      "Accuracy on evaluation data: 68/100\n",
      "Epoch 9 training complete\n",
      "Accuracy on evaluation data: 67/100\n",
      "Epoch 10 training complete\n",
      "Accuracy on evaluation data: 70/100\n",
      "Epoch 11 training complete\n",
      "Accuracy on evaluation data: 68/100\n",
      "Epoch 12 training complete\n",
      "Accuracy on evaluation data: 72/100\n",
      "Epoch 13 training complete\n",
      "Accuracy on evaluation data: 72/100\n",
      "Epoch 14 training complete\n",
      "Accuracy on evaluation data: 72/100\n",
      "Epoch 15 training complete\n",
      "Accuracy on evaluation data: 72/100\n",
      "Epoch 16 training complete\n",
      "Accuracy on evaluation data: 72/100\n",
      "Epoch 17 training complete\n",
      "Accuracy on evaluation data: 73/100\n",
      "Epoch 18 training complete\n",
      "Accuracy on evaluation data: 76/100\n",
      "Epoch 19 training complete\n",
      "Accuracy on evaluation data: 75/100\n",
      "Epoch 20 training complete\n",
      "Accuracy on evaluation data: 76/100\n",
      "Epoch 21 training complete\n",
      "Accuracy on evaluation data: 78/100\n",
      "Epoch 22 training complete\n",
      "Accuracy on evaluation data: 79/100\n",
      "Epoch 23 training complete\n",
      "Accuracy on evaluation data: 81/100\n",
      "Epoch 24 training complete\n",
      "Accuracy on evaluation data: 81/100\n",
      "Epoch 25 training complete\n",
      "Accuracy on evaluation data: 80/100\n",
      "Epoch 26 training complete\n",
      "Accuracy on evaluation data: 79/100\n",
      "Epoch 27 training complete\n",
      "Accuracy on evaluation data: 81/100\n",
      "Epoch 28 training complete\n",
      "Accuracy on evaluation data: 81/100\n",
      "Epoch 29 training complete\n",
      "Accuracy on evaluation data: 81/100\n",
      "Epoch 30 training complete\n",
      "Accuracy on evaluation data: 80/100\n"
     ]
    }
   ],
   "source": [
    "loss = Losses.CROSSENTROPY\n",
    "activation = Activations.SIGMOID\n",
    "schedule = Schedules.CONSTANT.value\n",
    "exec_model(loss, activation, schedule, 0.03, training_data[:1000], test_data[:100])"
   ]
  },
  {
   "cell_type": "code",
   "execution_count": 4,
   "metadata": {},
   "outputs": [
    {
     "name": "stdout",
     "output_type": "stream",
     "text": [
      "Epoch 1 training complete\n",
      "Accuracy on evaluation data: 8997/10000\n",
      "Epoch 2 training complete\n",
      "Accuracy on evaluation data: 9060/10000\n",
      "Epoch 3 training complete\n",
      "Accuracy on evaluation data: 9122/10000\n",
      "Epoch 4 training complete\n",
      "Accuracy on evaluation data: 9136/10000\n",
      "Epoch 5 training complete\n",
      "Accuracy on evaluation data: 9180/10000\n",
      "Epoch 6 training complete\n",
      "Accuracy on evaluation data: 9189/10000\n",
      "Epoch 7 training complete\n",
      "Accuracy on evaluation data: 9179/10000\n",
      "Epoch 8 training complete\n",
      "Accuracy on evaluation data: 9196/10000\n",
      "Epoch 9 training complete\n",
      "Accuracy on evaluation data: 9210/10000\n",
      "Epoch 10 training complete\n",
      "Accuracy on evaluation data: 9192/10000\n",
      "Epoch 11 training complete\n",
      "Accuracy on evaluation data: 9204/10000\n",
      "Epoch 12 training complete\n",
      "Accuracy on evaluation data: 9211/10000\n",
      "Epoch 13 training complete\n",
      "Accuracy on evaluation data: 9207/10000\n",
      "Epoch 14 training complete\n",
      "Accuracy on evaluation data: 9200/10000\n",
      "Epoch 15 training complete\n",
      "Accuracy on evaluation data: 9223/10000\n",
      "Epoch 16 training complete\n",
      "Accuracy on evaluation data: 9226/10000\n",
      "Epoch 17 training complete\n",
      "Accuracy on evaluation data: 9229/10000\n",
      "Epoch 18 training complete\n",
      "Accuracy on evaluation data: 9229/10000\n",
      "Epoch 19 training complete\n",
      "Accuracy on evaluation data: 9227/10000\n",
      "Epoch 20 training complete\n",
      "Accuracy on evaluation data: 9231/10000\n",
      "Epoch 21 training complete\n",
      "Accuracy on evaluation data: 9226/10000\n",
      "Epoch 22 training complete\n",
      "Accuracy on evaluation data: 9232/10000\n",
      "Epoch 23 training complete\n",
      "Accuracy on evaluation data: 9237/10000\n",
      "Epoch 24 training complete\n",
      "Accuracy on evaluation data: 9234/10000\n",
      "Epoch 25 training complete\n",
      "Accuracy on evaluation data: 9235/10000\n",
      "Epoch 26 training complete\n",
      "Accuracy on evaluation data: 9236/10000\n",
      "Epoch 27 training complete\n",
      "Accuracy on evaluation data: 9232/10000\n",
      "Epoch 28 training complete\n",
      "Accuracy on evaluation data: 9233/10000\n",
      "Epoch 29 training complete\n",
      "Accuracy on evaluation data: 9227/10000\n",
      "Epoch 30 training complete\n",
      "Accuracy on evaluation data: 9232/10000\n"
     ]
    }
   ],
   "source": [
    "activation = Activations.RELU\n",
    "schedule = Schedules.EXP_RANGE.value\n",
    "exec_model(loss, activation, schedule, 0.03, training_data, test_data)"
   ]
  },
  {
   "cell_type": "code",
   "execution_count": 6,
   "metadata": {},
   "outputs": [
    {
     "name": "stdout",
     "output_type": "stream",
     "text": [
      "Epoch 1 training complete\n",
      "Accuracy on evaluation data: 8594/10000\n",
      "Epoch 2 training complete\n",
      "Accuracy on evaluation data: 8959/10000\n",
      "Epoch 3 training complete\n",
      "Accuracy on evaluation data: 9057/10000\n",
      "Epoch 4 training complete\n",
      "Accuracy on evaluation data: 9097/10000\n",
      "Epoch 5 training complete\n",
      "Accuracy on evaluation data: 9143/10000\n",
      "Epoch 6 training complete\n",
      "Accuracy on evaluation data: 9179/10000\n",
      "Epoch 7 training complete\n",
      "Accuracy on evaluation data: 9200/10000\n",
      "Epoch 8 training complete\n",
      "Accuracy on evaluation data: 9218/10000\n",
      "Epoch 9 training complete\n",
      "Accuracy on evaluation data: 9223/10000\n",
      "Epoch 10 training complete\n",
      "Accuracy on evaluation data: 9232/10000\n",
      "Epoch 11 training complete\n",
      "Accuracy on evaluation data: 9243/10000\n",
      "Epoch 12 training complete\n",
      "Accuracy on evaluation data: 9259/10000\n",
      "Epoch 13 training complete\n",
      "Accuracy on evaluation data: 9270/10000\n",
      "Epoch 14 training complete\n",
      "Accuracy on evaluation data: 9275/10000\n",
      "Epoch 15 training complete\n",
      "Accuracy on evaluation data: 9272/10000\n",
      "Epoch 16 training complete\n",
      "Accuracy on evaluation data: 9278/10000\n",
      "Epoch 17 training complete\n",
      "Accuracy on evaluation data: 9282/10000\n",
      "Epoch 18 training complete\n",
      "Accuracy on evaluation data: 9281/10000\n",
      "Epoch 19 training complete\n",
      "Accuracy on evaluation data: 9282/10000\n",
      "Epoch 20 training complete\n",
      "Accuracy on evaluation data: 9287/10000\n",
      "Epoch 21 training complete\n",
      "Accuracy on evaluation data: 9289/10000\n",
      "Epoch 22 training complete\n",
      "Accuracy on evaluation data: 9289/10000\n",
      "Epoch 23 training complete\n",
      "Accuracy on evaluation data: 9290/10000\n",
      "Epoch 24 training complete\n",
      "Accuracy on evaluation data: 9293/10000\n",
      "Epoch 25 training complete\n",
      "Accuracy on evaluation data: 9293/10000\n",
      "Epoch 26 training complete\n",
      "Accuracy on evaluation data: 9290/10000\n",
      "Epoch 27 training complete\n",
      "Accuracy on evaluation data: 9293/10000\n",
      "Epoch 28 training complete\n",
      "Accuracy on evaluation data: 9294/10000\n",
      "Epoch 29 training complete\n",
      "Accuracy on evaluation data: 9293/10000\n",
      "Epoch 30 training complete\n",
      "Accuracy on evaluation data: 9293/10000\n"
     ]
    }
   ],
   "source": [
    "activation = Activations.SIGMOID\n",
    "schedule = Schedules.EXP_RANGE.value\n",
    "exec_model(loss, activation, schedule, 0.03, training_data, test_data)"
   ]
  },
  {
   "cell_type": "code",
   "execution_count": 7,
   "metadata": {},
   "outputs": [
    {
     "name": "stdout",
     "output_type": "stream",
     "text": [
      "Epoch 1 training complete\n",
      "Accuracy on evaluation data: 8758/10000\n",
      "Epoch 2 training complete\n",
      "Accuracy on evaluation data: 9009/10000\n",
      "Epoch 3 training complete\n",
      "Accuracy on evaluation data: 9114/10000\n",
      "Epoch 4 training complete\n",
      "Accuracy on evaluation data: 9183/10000\n",
      "Epoch 5 training complete\n",
      "Accuracy on evaluation data: 9225/10000\n",
      "Epoch 6 training complete\n",
      "Accuracy on evaluation data: 9255/10000\n",
      "Epoch 7 training complete\n",
      "Accuracy on evaluation data: 9290/10000\n",
      "Epoch 8 training complete\n",
      "Accuracy on evaluation data: 9314/10000\n",
      "Epoch 9 training complete\n",
      "Accuracy on evaluation data: 9340/10000\n",
      "Epoch 10 training complete\n",
      "Accuracy on evaluation data: 9357/10000\n",
      "Epoch 11 training complete\n",
      "Accuracy on evaluation data: 9366/10000\n",
      "Epoch 12 training complete\n",
      "Accuracy on evaluation data: 9367/10000\n",
      "Epoch 13 training complete\n",
      "Accuracy on evaluation data: 9402/10000\n",
      "Epoch 14 training complete\n",
      "Accuracy on evaluation data: 9410/10000\n",
      "Epoch 15 training complete\n",
      "Accuracy on evaluation data: 9415/10000\n",
      "Epoch 16 training complete\n",
      "Accuracy on evaluation data: 9409/10000\n",
      "Epoch 17 training complete\n",
      "Accuracy on evaluation data: 9429/10000\n",
      "Epoch 18 training complete\n",
      "Accuracy on evaluation data: 9436/10000\n",
      "Epoch 19 training complete\n",
      "Accuracy on evaluation data: 9449/10000\n",
      "Epoch 20 training complete\n",
      "Accuracy on evaluation data: 9461/10000\n",
      "Epoch 21 training complete\n",
      "Accuracy on evaluation data: 9458/10000\n",
      "Epoch 22 training complete\n",
      "Accuracy on evaluation data: 9460/10000\n",
      "Epoch 23 training complete\n",
      "Accuracy on evaluation data: 9477/10000\n",
      "Epoch 24 training complete\n",
      "Accuracy on evaluation data: 9482/10000\n",
      "Epoch 25 training complete\n",
      "Accuracy on evaluation data: 9485/10000\n",
      "Epoch 26 training complete\n",
      "Accuracy on evaluation data: 9490/10000\n",
      "Epoch 27 training complete\n",
      "Accuracy on evaluation data: 9496/10000\n",
      "Epoch 28 training complete\n",
      "Accuracy on evaluation data: 9500/10000\n",
      "Epoch 29 training complete\n",
      "Accuracy on evaluation data: 9505/10000\n",
      "Epoch 30 training complete\n",
      "Accuracy on evaluation data: 9504/10000\n"
     ]
    }
   ],
   "source": [
    "activation = Activations.SIGMOID\n",
    "schedule = Schedules.CONSTANT.value\n",
    "exec_model(loss, activation, schedule, 0.03, training_data, test_data)"
   ]
  },
  {
   "cell_type": "code",
   "execution_count": 8,
   "metadata": {},
   "outputs": [
    {
     "name": "stdout",
     "output_type": "stream",
     "text": [
      "Epoch 1 training complete\n",
      "Accuracy on evaluation data: 9039/10000\n",
      "Epoch 2 training complete\n",
      "Accuracy on evaluation data: 9093/10000\n",
      "Epoch 3 training complete\n",
      "Accuracy on evaluation data: 9144/10000\n",
      "Epoch 4 training complete\n",
      "Accuracy on evaluation data: 9191/10000\n",
      "Epoch 5 training complete\n",
      "Accuracy on evaluation data: 9206/10000\n",
      "Epoch 6 training complete\n",
      "Accuracy on evaluation data: 9217/10000\n",
      "Epoch 7 training complete\n",
      "Accuracy on evaluation data: 9196/10000\n",
      "Epoch 8 training complete\n",
      "Accuracy on evaluation data: 9224/10000\n",
      "Epoch 9 training complete\n",
      "Accuracy on evaluation data: 9233/10000\n",
      "Epoch 10 training complete\n",
      "Accuracy on evaluation data: 9208/10000\n",
      "Epoch 11 training complete\n",
      "Accuracy on evaluation data: 9214/10000\n",
      "Epoch 12 training complete\n",
      "Accuracy on evaluation data: 9196/10000\n",
      "Epoch 13 training complete\n",
      "Accuracy on evaluation data: 9237/10000\n",
      "Epoch 14 training complete\n",
      "Accuracy on evaluation data: 9221/10000\n",
      "Epoch 15 training complete\n",
      "Accuracy on evaluation data: 9213/10000\n",
      "Epoch 16 training complete\n",
      "Accuracy on evaluation data: 9201/10000\n",
      "Epoch 17 training complete\n",
      "Accuracy on evaluation data: 9232/10000\n",
      "Epoch 18 training complete\n",
      "Accuracy on evaluation data: 9242/10000\n",
      "Epoch 19 training complete\n",
      "Accuracy on evaluation data: 9221/10000\n",
      "Epoch 20 training complete\n",
      "Accuracy on evaluation data: 9209/10000\n",
      "Epoch 21 training complete\n",
      "Accuracy on evaluation data: 9206/10000\n",
      "Epoch 22 training complete\n",
      "Accuracy on evaluation data: 9171/10000\n",
      "Epoch 23 training complete\n",
      "Accuracy on evaluation data: 9206/10000\n",
      "Epoch 24 training complete\n",
      "Accuracy on evaluation data: 9204/10000\n",
      "Epoch 25 training complete\n",
      "Accuracy on evaluation data: 9187/10000\n",
      "Epoch 26 training complete\n",
      "Accuracy on evaluation data: 9205/10000\n",
      "Epoch 27 training complete\n",
      "Accuracy on evaluation data: 9167/10000\n",
      "Epoch 28 training complete\n",
      "Accuracy on evaluation data: 9174/10000\n",
      "Epoch 29 training complete\n",
      "Accuracy on evaluation data: 9172/10000\n",
      "Epoch 30 training complete\n",
      "Accuracy on evaluation data: 9172/10000\n"
     ]
    }
   ],
   "source": [
    "activation = Activations.RELU\n",
    "schedule = Schedules.CONSTANT.value\n",
    "exec_model(loss, activation, schedule, 0.03, training_data, test_data)"
   ]
  },
  {
   "cell_type": "markdown",
   "metadata": {},
   "source": [
    "#### O modelo em Numpy que obteve maior acurácia foi o que utilizou os seguintes hiperparâmetros: função de ativação sigmoid; learning rate constante = 0.03; 30 épocas; tamanho do batch=20; CrossEntropy como função de custo."
   ]
  },
  {
   "cell_type": "code",
   "execution_count": 20,
   "metadata": {},
   "outputs": [
    {
     "name": "stdout",
     "output_type": "stream",
     "text": [
      "Epoch 1/20\n",
      "TRAIN Loss: 0.7377 Acc: 0.7599\n",
      "VAL Loss: 0.3873 Acc: 0.8696\n",
      "--------------------------------------------------\n",
      "Epoch 2/20\n",
      "TRAIN Loss: 0.4156 Acc: 0.8721\n",
      "VAL Loss: 0.3288 Acc: 0.8962\n",
      "--------------------------------------------------\n",
      "Epoch 3/20\n",
      "TRAIN Loss: 0.3185 Acc: 0.9052\n",
      "VAL Loss: 0.2569 Acc: 0.9134\n",
      "--------------------------------------------------\n",
      "Epoch 4/20\n",
      "TRAIN Loss: 0.2671 Acc: 0.9221\n",
      "VAL Loss: 0.2287 Acc: 0.9246\n",
      "--------------------------------------------------\n",
      "Epoch 5/20\n",
      "TRAIN Loss: 0.2321 Acc: 0.9318\n",
      "VAL Loss: 0.2076 Acc: 0.9333\n",
      "--------------------------------------------------\n",
      "Epoch 6/20\n",
      "TRAIN Loss: 0.2076 Acc: 0.9392\n",
      "VAL Loss: 0.1905 Acc: 0.9386\n",
      "--------------------------------------------------\n",
      "Epoch 7/20\n",
      "TRAIN Loss: 0.1889 Acc: 0.9442\n",
      "VAL Loss: 0.1699 Acc: 0.9442\n",
      "--------------------------------------------------\n",
      "Epoch 8/20\n",
      "TRAIN Loss: 0.1710 Acc: 0.9507\n",
      "VAL Loss: 0.1680 Acc: 0.9461\n",
      "--------------------------------------------------\n",
      "Epoch 9/20\n",
      "TRAIN Loss: 0.1606 Acc: 0.9526\n",
      "VAL Loss: 0.1574 Acc: 0.9490\n",
      "--------------------------------------------------\n",
      "Epoch 10/20\n",
      "TRAIN Loss: 0.1478 Acc: 0.9558\n",
      "VAL Loss: 0.1499 Acc: 0.9525\n",
      "--------------------------------------------------\n",
      "Epoch 11/20\n",
      "TRAIN Loss: 0.1372 Acc: 0.9588\n",
      "VAL Loss: 0.1505 Acc: 0.9507\n",
      "--------------------------------------------------\n",
      "Epoch 12/20\n",
      "TRAIN Loss: 0.1300 Acc: 0.9609\n",
      "VAL Loss: 0.1474 Acc: 0.9515\n",
      "--------------------------------------------------\n",
      "Epoch 13/20\n",
      "TRAIN Loss: 0.1240 Acc: 0.9632\n",
      "VAL Loss: 0.1397 Acc: 0.9536\n",
      "--------------------------------------------------\n",
      "Epoch 14/20\n",
      "TRAIN Loss: 0.1169 Acc: 0.9652\n",
      "VAL Loss: 0.1361 Acc: 0.9552\n",
      "--------------------------------------------------\n",
      "Epoch 15/20\n",
      "TRAIN Loss: 0.1124 Acc: 0.9665\n",
      "VAL Loss: 0.1398 Acc: 0.9550\n",
      "--------------------------------------------------\n",
      "Epoch 16/20\n",
      "TRAIN Loss: 0.1051 Acc: 0.9675\n",
      "VAL Loss: 0.1316 Acc: 0.9593\n",
      "--------------------------------------------------\n",
      "Epoch 17/20\n",
      "TRAIN Loss: 0.1021 Acc: 0.9692\n",
      "VAL Loss: 0.1413 Acc: 0.9558\n",
      "--------------------------------------------------\n",
      "Epoch 18/20\n",
      "TRAIN Loss: 0.0995 Acc: 0.9692\n",
      "VAL Loss: 0.1339 Acc: 0.9564\n",
      "--------------------------------------------------\n",
      "Epoch 19/20\n",
      "TRAIN Loss: 0.0925 Acc: 0.9722\n",
      "VAL Loss: 0.1274 Acc: 0.9593\n",
      "--------------------------------------------------\n",
      "Epoch 20/20\n",
      "TRAIN Loss: 0.0922 Acc: 0.9724\n",
      "VAL Loss: 0.1293 Acc: 0.9584\n",
      "--------------------------------------------------\n",
      "Test Loss: 0.12666032313825978\n",
      "Test Accuracy: 0.9573049363057325\n"
     ]
    }
   ],
   "source": [
    "# Dataset MNIST aqui!\n",
    "model = MLP()\n",
    "model = model.to(device)\n",
    "cost = nn.NLLLoss()\n",
    "optimizer = optim.Adam(model.parameters(), lr=0.001)\n",
    "scheduler =  optim.lr_scheduler.ExponentialLR(optimizer, 0.9, last_epoch=-1)\n",
    "model, loss_mlp, acc_mlp = train(model, dataset, optimizer, cost, scheduler)\n",
    "y_test_mlp, y_pred_mlp = test(model, dataset['test'], cost)"
   ]
  }
 ],
 "metadata": {
  "kernelspec": {
   "display_name": "Python 3",
   "language": "python",
   "name": "python3"
  },
  "language_info": {
   "codemirror_mode": {
    "name": "ipython",
    "version": 3
   },
   "file_extension": ".py",
   "mimetype": "text/x-python",
   "name": "python",
   "nbconvert_exporter": "python",
   "pygments_lexer": "ipython3",
   "version": "3.6.8"
  }
 },
 "nbformat": 4,
 "nbformat_minor": 2
}
